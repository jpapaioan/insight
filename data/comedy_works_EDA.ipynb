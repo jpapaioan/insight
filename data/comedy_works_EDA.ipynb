{
 "cells": [
  {
   "cell_type": "code",
   "execution_count": 197,
   "metadata": {},
   "outputs": [],
   "source": [
    "import pandas as pd\n",
    "import collections\n",
    "\n",
    "df = pd.read_csv('example.csv')"
   ]
  },
  {
   "cell_type": "code",
   "execution_count": 212,
   "metadata": {},
   "outputs": [
    {
     "name": "stdout",
     "output_type": "stream",
     "text": [
      "Index(['comedians', 'bios'], dtype='object')\n",
      "(1081, 2)\n",
      "(542, 2)\n",
      "(491, 2)\n"
     ]
    }
   ],
   "source": [
    "df.columns = ['comedians', 'bios']\n",
    "print(df.columns)\n",
    "print(df.shape)\n",
    "df = df.drop_duplicates()\n",
    "print(df.shape)\n",
    "df = df.dropna()\n",
    "print(df.shape)"
   ]
  },
  {
   "cell_type": "code",
   "execution_count": 213,
   "metadata": {},
   "outputs": [],
   "source": [
    "def comic_clean(comic):\n",
    "    comic = str(comic)\n",
    "    comic = comic.split('/')[-1].replace('-',' ')\n",
    "    return comic"
   ]
  },
  {
   "cell_type": "code",
   "execution_count": 214,
   "metadata": {},
   "outputs": [
    {
     "data": {
      "text/plain": [
       "1                                         about lastnight\n",
       "2                              adam carolla is unprepared\n",
       "3                                     adam cayton holland\n",
       "4                                                adam ray\n",
       "5       adam ruins everything presents mind parasites ...\n",
       "6                                             adrian mesa\n",
       "7                                             aisha tyler\n",
       "8                                               aj finney\n",
       "9                                              al goodwin\n",
       "10                                             al jackson\n",
       "13                                           alex edelman\n",
       "14                                            alex moffat\n",
       "15                                               ali wong\n",
       "16                                       alice wetterlund\n",
       "17                                          alingon mitra\n",
       "18                                            amy schumer\n",
       "19                                            kevin smith\n",
       "20                            sam tallent and dave gborie\n",
       "21                                          atwwd podcast\n",
       "22                                        andrew orvedahl\n",
       "35                                         andrew santino\n",
       "36                                          andrew schulz\n",
       "37                                        anjelah johnson\n",
       "38                              anjelah johnson paramount\n",
       "39                                         annie lederman\n",
       "40                                       anthony jeselnik\n",
       "41                                       aparna nancherla\n",
       "42                                            arden myrin\n",
       "43                                            ari shaffir\n",
       "44                                             arj barker\n",
       "                              ...                        \n",
       "1005                                           todd barry\n",
       "1006                                           todd glass\n",
       "1007                                         todd johnson\n",
       "1008                                           tom cotter\n",
       "1009                                            tom green\n",
       "1010                                             tom papa\n",
       "1011                                      tom segrua tour\n",
       "1012                                       tommy johnagin\n",
       "1013                               tommy chong and shelby\n",
       "1026                                            tone bell\n",
       "1027                                     tony hinchcliffe\n",
       "1028                                           tony baker\n",
       "1029                               top secret act deleted\n",
       "1030                                         tracy morgan\n",
       "1031                                 trevor noah redrocks\n",
       "1032                                        triple threat\n",
       "1033                                          troy baxley\n",
       "1034                                          troy walker\n",
       "1035                               uncalled four zac maas\n",
       "1048                                 vday chris distefano\n",
       "1049                                     vday nick guerra\n",
       "1050                                        vic alejandro\n",
       "1051                                              vir das\n",
       "1052                                          wanda sykes\n",
       "1053                                  wellRED Comedy Tour\n",
       "1054                                        wendy liebman\n",
       "1055                                     whitney cummings\n",
       "1056                                    whose live anyway\n",
       "1057                                         wil anderson\n",
       "1070                    william shatner paramount theatre\n",
       "Name: comedians, Length: 491, dtype: object"
      ]
     },
     "execution_count": 214,
     "metadata": {},
     "output_type": "execute_result"
    }
   ],
   "source": [
    "df2 = df.copy()\n",
    "df2['comedians'] = df2['comedians'].astype(str)\n",
    "df2['comedians'] = df2['comedians'].apply(comic_clean)\n",
    "df2.comedians"
   ]
  },
  {
   "cell_type": "code",
   "execution_count": 215,
   "metadata": {},
   "outputs": [
    {
     "name": "stdout",
     "output_type": "stream",
     "text": [
      "before scrub:  (491, 2)\n",
      "after scrub:  (471, 2)\n"
     ]
    }
   ],
   "source": [
    "#some cleaning up of comedian names and removing live podcasts and miscellaneous non-solo shows\n",
    "df3 = df2.copy()\n",
    "print('before scrub: ', df3.shape)\n",
    "df3 = df3[~df3.comedians.str.contains(\" is \")]\n",
    "df3 = df3[~df3.comedians.str.contains(\" Comedy\")]\n",
    "df3 = df3[~df3.comedians.str.contains(\" Podcast\")]\n",
    "df3 = df3[~df3.comedians.str.contains(\" live\")]\n",
    "df3 = df3[~df3.comedians.str.contains(\" and \")]\n",
    "df3 = df3[~df3.comedians.str.contains(\"about\")]\n",
    "\n",
    "\n",
    "df3['comedians'] = df3['comedians'].str.replace(\"paramount\", \"\")\n",
    "df3['comedians'] = df3['comedians'].str.replace(\"theatre\", \"\")\n",
    "df3.comedians = df3.comedians.apply(str.strip)\n",
    "print('after scrub: ', df3.shape)"
   ]
  },
  {
   "cell_type": "markdown",
   "metadata": {},
   "source": [
    "# let's investigate the bios finally!"
   ]
  },
  {
   "cell_type": "code",
   "execution_count": 216,
   "metadata": {},
   "outputs": [],
   "source": [
    "def bio_clean(bio):    # takes in bio str and cleans it up by splitting by new lines then concatenates everything at end\n",
    "    bio = bio.split('\\n')\n",
    "    del bio[0:2]\n",
    "    try:\n",
    "        bio.remove('Please review our ticket resale policy.')\n",
    "    except:\n",
    "        pass\n",
    "    bio = list(filter(lambda a: a != '', bio))\n",
    "    bio = \" \".join(bio)\n",
    "    return bio"
   ]
  },
  {
   "cell_type": "code",
   "execution_count": 217,
   "metadata": {},
   "outputs": [
    {
     "name": "stdout",
     "output_type": "stream",
     "text": [
      "before cleaning: \n",
      "\n",
      " \n",
      "Adam Ray\n",
      "Adam Ray has been very busy between his acting, writing and touring the country doing stand-up.  He was most recently seen on Arrested Development, HBO’s Curb Your Enthusiasm, the Netflix film Game Over Man, HBO’s Ballers, and season two of American Vandal for Netflix.  \n",
      "\n",
      "On the big screen, Adam is known from his work opposite Sandra Bullock and Melissa McCarthy in Paul Feig's buddy cop comedy The Heat.  He was also featured in Paul Feig’s Spy, in the Jennifer Lopez comedy Second Act, as well as the reboot of Ghostbusters.  Adam was a cast member in the reboot of the sketch comedy franchise MADtv for the CW and played Joey McIntyre’s manager on the Pop Network show Return Of The Mac.  On the voiceover front, Adam has been the voice of CONAN for the past two years, has featured in cartoons like Trolls, Rick & Morty, Supermansion, and most recently in the Dreamworks show She-Ra on Netflix.  \n",
      "\n",
      "Adam co-hosted the comedy game show Separation Anxiety on TBS with comedian Iliza Shlesinger and has guest-starred on 2 Broke Girls, Workaholics, Silicon Valley, and @midnight.  He has written for MTV’s Punk’d, Adam Devine’s House Party, and the reboot of Mystery Science Theater.  Ray’s stand-up has been featured on The Late Late Show with Craig Ferguson and Adam Devine’s House Party on Comedy Central.  Adam is a regular on The Adam Carolla Podcast and co-hosts the popular About Last Night podcast.  His hilarious sketches, which have garnered over 30 million views on YouTube and Funny Or Die.\n",
      "\n",
      "\n",
      "\n",
      "Please review our ticket resale policy.\n",
      "\n",
      "\n",
      "after cleaning: \n",
      "\n",
      " Adam Ray has been very busy between his acting, writing and touring the country doing stand-up.  He was most recently seen on Arrested Development, HBO’s Curb Your Enthusiasm, the Netflix film Game Over Man, HBO’s Ballers, and season two of American Vandal for Netflix.   On the big screen, Adam is known from his work opposite Sandra Bullock and Melissa McCarthy in Paul Feig's buddy cop comedy The Heat.  He was also featured in Paul Feig’s Spy, in the Jennifer Lopez comedy Second Act, as well as the reboot of Ghostbusters.  Adam was a cast member in the reboot of the sketch comedy franchise MADtv for the CW and played Joey McIntyre’s manager on the Pop Network show Return Of The Mac.  On the voiceover front, Adam has been the voice of CONAN for the past two years, has featured in cartoons like Trolls, Rick & Morty, Supermansion, and most recently in the Dreamworks show She-Ra on Netflix.   Adam co-hosted the comedy game show Separation Anxiety on TBS with comedian Iliza Shlesinger and has guest-starred on 2 Broke Girls, Workaholics, Silicon Valley, and @midnight.  He has written for MTV’s Punk’d, Adam Devine’s House Party, and the reboot of Mystery Science Theater.  Ray’s stand-up has been featured on The Late Late Show with Craig Ferguson and Adam Devine’s House Party on Comedy Central.  Adam is a regular on The Adam Carolla Podcast and co-hosts the popular About Last Night podcast.  His hilarious sketches, which have garnered over 30 million views on YouTube and Funny Or Die.\n"
     ]
    }
   ],
   "source": [
    "df4 = df3.copy()\n",
    "df4.bios = df4.bios.astype(str)\n",
    "print('before cleaning: \\n\\n', df4.iloc[1,1])\n",
    "df4.bios = df4.bios.apply(bio_clean)\n",
    "print('after cleaning: \\n\\n', df4.iloc[1,1])"
   ]
  },
  {
   "cell_type": "markdown",
   "metadata": {},
   "source": [
    "# Let's do some exploratory analysis / modeling for once"
   ]
  },
  {
   "cell_type": "code",
   "execution_count": 218,
   "metadata": {},
   "outputs": [
    {
     "name": "stderr",
     "output_type": "stream",
     "text": [
      "[nltk_data] Downloading package punkt to\n",
      "[nltk_data]     /Users/johnpapaioannou/nltk_data...\n",
      "[nltk_data]   Package punkt is already up-to-date!\n",
      "[nltk_data] Downloading package averaged_perceptron_tagger to\n",
      "[nltk_data]     /Users/johnpapaioannou/nltk_data...\n",
      "[nltk_data]   Package averaged_perceptron_tagger is already up-to-\n",
      "[nltk_data]       date!\n"
     ]
    },
    {
     "data": {
      "text/plain": [
       "True"
      ]
     },
     "execution_count": 218,
     "metadata": {},
     "output_type": "execute_result"
    }
   ],
   "source": [
    "import nltk\n",
    "nltk.download('punkt')\n",
    "nltk.download('averaged_perceptron_tagger')"
   ]
  },
  {
   "cell_type": "code",
   "execution_count": 219,
   "metadata": {},
   "outputs": [
    {
     "name": "stdout",
     "output_type": "stream",
     "text": [
      "['Join', 'Denver', \"'s\", 'Newest', 'Dad', 'This', 'Father', \"'s\", 'Day', 'at', 'Comedy', 'Works', 'Downtown', '!', 'Adam', 'Cayton-Holland', 'is', 'a', 'national', 'touring', 'headliner', 'who', 'was', 'named', 'one', 'of', '25', '“', 'Comics', 'to', 'Watch', '”', 'by', 'Esquire', 'Magazine', 'and', 'one', 'of', '“', '10', 'Comics', 'to', 'Watch', '”', 'by', 'Variety', '.', 'Along', 'with', 'his', 'co-hosts', 'in', 'the', 'The', 'Grawlix', 'comedy', 'troupe', ',', 'Adam', 'created', ',', 'writes', 'and', 'stars', 'in', 'truTV', '’', 's', 'Those', 'Who', 'Can', '’', 't', ',', 'in', 'which', 'Adam', 'plays', 'Spanish', 'teacher', 'and', 'bon', 'vivant', 'Loren', 'Payton', '.', 'He', 'has', 'appeared', 'on', 'Conan', ',', 'Comedy', 'Central', 'Presents', ',', 'The', 'Meltdown', 'with', 'Jonah', 'and', 'Kumail', ',', 'Happy', 'Endings', ',', 'Deadbeat', ',', 'Flophouse', ',', 'Hidden', 'America', ',', 'and', '@', 'midnight', '.', 'He', 'was', 'also', 'featured', 'on', 'the', 'Nerdist', ',', 'Comedy', 'Bang', 'Bang', ',', 'and', 'Sklarbro', 'County', 'podcasts', '.', 'Cayton-Holland', 'has', 'performed', 'at', 'the', 'Montreal', 'Just', 'For', 'Laughs', ',', 'SXSW', ',', 'Bridgetown', 'Comedy', 'festivals', ',', 'and', 'helms', 'his', 'own', 'comedy', 'extravaganza', 'in', 'Denver', ',', 'The', 'High', 'Plains', 'Comedy', 'Festival', '.', 'He', 'has', 'also', 'performed', 'at', 'The', 'Kennedy', 'Center', 'and', 'Carnegie', 'Hall', '.', 'Adam', 'has', 'three', 'albums', ',', 'I', 'Don', '’', 't', 'Know', 'If', 'I', 'Happy', ',', 'Backyards', ',', 'and', 'Adam', 'Cayton-Holland', 'Performs', 'His', 'Signature', 'Bits', ',', 'all', 'available', 'on', 'iTunes', '.', 'His', 'first', 'book', ',', 'Tragedy', 'Plus', 'Time', ',', 'was', 'recently', 'released', 'by', 'Touchstone', 'Books', 'and', 'is', 'available', 'in', 'bookstores', 'everywhere', '.', 'He', 'once', 'threw', 'out', 'the', 'opening', 'pitch', 'at', 'a', 'Colorado', 'Rockies', 'game', 'and', 'people', 'have', 'described', 'him', 'as', '“', 'genial', ',', '”', 'and', '“', 'with', 'decent', 'teeth', '.', '”']\n",
      "\n",
      "\n",
      " parts of speech:  [('Join', 'NNP'), ('Denver', 'NNP'), (\"'s\", 'POS'), ('Newest', 'NNP'), ('Dad', 'NNP'), ('This', 'DT'), ('Father', 'NNP'), (\"'s\", 'POS'), ('Day', 'NNP'), ('at', 'IN'), ('Comedy', 'NNP'), ('Works', 'NNP'), ('Downtown', 'NNP'), ('!', '.'), ('Adam', 'NNP'), ('Cayton-Holland', 'NNP'), ('is', 'VBZ'), ('a', 'DT'), ('national', 'JJ'), ('touring', 'NN'), ('headliner', 'NN'), ('who', 'WP'), ('was', 'VBD'), ('named', 'VBN'), ('one', 'CD'), ('of', 'IN'), ('25', 'CD'), ('“', 'JJ'), ('Comics', 'NNPS'), ('to', 'TO'), ('Watch', 'VB'), ('”', 'NN'), ('by', 'IN'), ('Esquire', 'NNP'), ('Magazine', 'NNP'), ('and', 'CC'), ('one', 'CD'), ('of', 'IN'), ('“', '$'), ('10', 'CD'), ('Comics', 'NNPS'), ('to', 'TO'), ('Watch', 'VB'), ('”', 'NN'), ('by', 'IN'), ('Variety', 'NNP'), ('.', '.'), ('Along', 'IN'), ('with', 'IN'), ('his', 'PRP$'), ('co-hosts', 'NNS'), ('in', 'IN'), ('the', 'DT'), ('The', 'DT'), ('Grawlix', 'NNP'), ('comedy', 'NN'), ('troupe', 'NN'), (',', ','), ('Adam', 'NNP'), ('created', 'VBD'), (',', ','), ('writes', 'NNS'), ('and', 'CC'), ('stars', 'NNS'), ('in', 'IN'), ('truTV', 'NN'), ('’', 'NN'), ('s', 'VBP'), ('Those', 'DT'), ('Who', 'WP'), ('Can', 'MD'), ('’', 'VB'), ('t', 'NN'), (',', ','), ('in', 'IN'), ('which', 'WDT'), ('Adam', 'NNP'), ('plays', 'VBZ'), ('Spanish', 'JJ'), ('teacher', 'NN'), ('and', 'CC'), ('bon', 'NN'), ('vivant', 'NN'), ('Loren', 'NNP'), ('Payton', 'NNP'), ('.', '.'), ('He', 'PRP'), ('has', 'VBZ'), ('appeared', 'VBN'), ('on', 'IN'), ('Conan', 'NNP'), (',', ','), ('Comedy', 'NNP'), ('Central', 'NNP'), ('Presents', 'NNP'), (',', ','), ('The', 'DT'), ('Meltdown', 'NNP'), ('with', 'IN'), ('Jonah', 'NNP'), ('and', 'CC'), ('Kumail', 'NNP'), (',', ','), ('Happy', 'NNP'), ('Endings', 'NNP'), (',', ','), ('Deadbeat', 'NNP'), (',', ','), ('Flophouse', 'NNP'), (',', ','), ('Hidden', 'NNP'), ('America', 'NNP'), (',', ','), ('and', 'CC'), ('@', 'NNP'), ('midnight', 'NN'), ('.', '.'), ('He', 'PRP'), ('was', 'VBD'), ('also', 'RB'), ('featured', 'VBN'), ('on', 'IN'), ('the', 'DT'), ('Nerdist', 'NNP'), (',', ','), ('Comedy', 'NNP'), ('Bang', 'NNP'), ('Bang', 'NNP'), (',', ','), ('and', 'CC'), ('Sklarbro', 'NNP'), ('County', 'NNP'), ('podcasts', 'NNS'), ('.', '.'), ('Cayton-Holland', 'NNP'), ('has', 'VBZ'), ('performed', 'VBN'), ('at', 'IN'), ('the', 'DT'), ('Montreal', 'NNP'), ('Just', 'NNP'), ('For', 'IN'), ('Laughs', 'NNP'), (',', ','), ('SXSW', 'NNP'), (',', ','), ('Bridgetown', 'NNP'), ('Comedy', 'NNP'), ('festivals', 'NNS'), (',', ','), ('and', 'CC'), ('helms', 'VB'), ('his', 'PRP$'), ('own', 'JJ'), ('comedy', 'NN'), ('extravaganza', 'NN'), ('in', 'IN'), ('Denver', 'NNP'), (',', ','), ('The', 'DT'), ('High', 'NNP'), ('Plains', 'NNP'), ('Comedy', 'NNP'), ('Festival', 'NNP'), ('.', '.'), ('He', 'PRP'), ('has', 'VBZ'), ('also', 'RB'), ('performed', 'VBN'), ('at', 'IN'), ('The', 'DT'), ('Kennedy', 'NNP'), ('Center', 'NNP'), ('and', 'CC'), ('Carnegie', 'NNP'), ('Hall', 'NNP'), ('.', '.'), ('Adam', 'NNP'), ('has', 'VBZ'), ('three', 'CD'), ('albums', 'NNS'), (',', ','), ('I', 'PRP'), ('Don', 'VBP'), ('’', 'JJ'), ('t', 'NN'), ('Know', 'NNP'), ('If', 'IN'), ('I', 'PRP'), ('Happy', 'VBP'), (',', ','), ('Backyards', 'NNP'), (',', ','), ('and', 'CC'), ('Adam', 'NNP'), ('Cayton-Holland', 'NNP'), ('Performs', 'NNP'), ('His', 'PRP$'), ('Signature', 'NN'), ('Bits', 'NNP'), (',', ','), ('all', 'DT'), ('available', 'JJ'), ('on', 'IN'), ('iTunes', 'NNS'), ('.', '.'), ('His', 'PRP$'), ('first', 'JJ'), ('book', 'NN'), (',', ','), ('Tragedy', 'NNP'), ('Plus', 'NNP'), ('Time', 'NNP'), (',', ','), ('was', 'VBD'), ('recently', 'RB'), ('released', 'VBN'), ('by', 'IN'), ('Touchstone', 'NNP'), ('Books', 'NNP'), ('and', 'CC'), ('is', 'VBZ'), ('available', 'JJ'), ('in', 'IN'), ('bookstores', 'NNS'), ('everywhere', 'RB'), ('.', '.'), ('He', 'PRP'), ('once', 'RB'), ('threw', 'VBD'), ('out', 'RP'), ('the', 'DT'), ('opening', 'NN'), ('pitch', 'NN'), ('at', 'IN'), ('a', 'DT'), ('Colorado', 'NNP'), ('Rockies', 'NNPS'), ('game', 'NN'), ('and', 'CC'), ('people', 'NNS'), ('have', 'VBP'), ('described', 'VBN'), ('him', 'PRP'), ('as', 'IN'), ('“', 'NNP'), ('genial', 'NN'), (',', ','), ('”', 'NN'), ('and', 'CC'), ('“', 'NN'), ('with', 'IN'), ('decent', 'JJ'), ('teeth', 'NNS'), ('.', '.'), ('”', 'NN')]\n",
      "<class 'list'>\n",
      "<class 'tuple'>\n"
     ]
    }
   ],
   "source": [
    "tokens = nltk.word_tokenize(df4.iloc[0,1])\n",
    "print(tokens)\n",
    "print('\\n\\n parts of speech: ', nltk.pos_tag(tokens))\n",
    "token_pos = nltk.pos_tag(tokens)\n",
    "print(type(token_pos))\n",
    "print(type(token_pos[0]))"
   ]
  },
  {
   "cell_type": "code",
   "execution_count": 228,
   "metadata": {},
   "outputs": [],
   "source": [
    "def pos_parser(blurb):\n",
    "    pos_of_interest = ['JJ', 'JJR', 'JJS', 'NNP', 'NNPS', 'RB', 'RBR', 'RBS']\n",
    "    tokens = nltk.word_tokenize(blurb)\n",
    "    token_pos = nltk.pos_tag(tokens)\n",
    "\n",
    "    pos_list = []\n",
    "    for i in range(len(pos_of_interest)):\n",
    "        pos_list.append([])\n",
    "    \n",
    "    i=0\n",
    "    for pos in pos_of_interest:\n",
    "        for token_tuple in token_pos:\n",
    "            if token_tuple[1] == pos:\n",
    "                pos_list[i].append(token_tuple[0])\n",
    "        i+=1\n",
    "\n",
    "    #clean up list, count duplicates? remove punctuation?\n",
    "    return pos_list[0]"
   ]
  },
  {
   "cell_type": "code",
   "execution_count": 295,
   "metadata": {
    "scrolled": true
   },
   "outputs": [],
   "source": [
    "df5 = df4.copy()\n",
    "df5.bios = df5.bios.apply(pos_parser)"
   ]
  },
  {
   "cell_type": "code",
   "execution_count": 312,
   "metadata": {},
   "outputs": [
    {
     "data": {
      "text/plain": [
       "True"
      ]
     },
     "execution_count": 312,
     "metadata": {},
     "output_type": "execute_result"
    }
   ],
   "source": [
    "sub = 'clean'\n",
    "any(sub in mystring for mystring in df5.iloc[5,1])"
   ]
  },
  {
   "cell_type": "code",
   "execution_count": 313,
   "metadata": {},
   "outputs": [],
   "source": [
    "def check_word(sub, str_list):\n",
    "    result = any(sub in mystring for mystring in str_list)\n",
    "    return result"
   ]
  },
  {
   "cell_type": "code",
   "execution_count": 314,
   "metadata": {},
   "outputs": [
    {
     "name": "stdout",
     "output_type": "stream",
     "text": [
      "['al goodwin', 'henry cho', 'kermet apio', 'louie anderson', 'nate bargatze', 'rocky laporte', 'ryan hamilton']\n"
     ]
    }
   ],
   "source": [
    "df6 = df5.copy()\n",
    "len(df6.iloc[:,0])\n",
    "com_str = []\n",
    "for i in range(len(df6.iloc[:,0])):\n",
    "    if check_word('clean', df6.iloc[i,1]):\n",
    "        com_str.append(df6.iloc[i,0])\n",
    "print(com_str)"
   ]
  },
  {
   "cell_type": "code",
   "execution_count": 319,
   "metadata": {},
   "outputs": [],
   "source": [
    "import os\n",
    "import pickle\n",
    "\n",
    "cwd = os.getcwd()\n",
    "file_path = cwd + '/cw.csv'\n",
    "export_csv = df6.to_csv(file_path, index = None, header=True)\n",
    "file_path = cwd + '/cw.pkl'\n",
    "df6.to_pickle(file_path)"
   ]
  },
  {
   "cell_type": "code",
   "execution_count": 324,
   "metadata": {
    "scrolled": true
   },
   "outputs": [
    {
     "name": "stdout",
     "output_type": "stream",
     "text": [
      "['al goodwin', 'henry cho', 'kermet apio', 'louie anderson', 'nate bargatze', 'rocky laporte', 'ryan hamilton']\n"
     ]
    }
   ],
   "source": [
    "df_cw = pd.read_pickle(file_path)\n",
    "com_str = []\n",
    "for i in range(len(df_cw.iloc[:,0])):\n",
    "    if check_word('clean', df_cw.iloc[i,1]):\n",
    "        com_str.append(df_cw.iloc[i,0])\n",
    "print(com_str)"
   ]
  },
  {
   "cell_type": "code",
   "execution_count": 283,
   "metadata": {},
   "outputs": [
    {
     "name": "stdout",
     "output_type": "stream",
     "text": [
      "[]\n"
     ]
    }
   ],
   "source": []
  },
  {
   "cell_type": "code",
   "execution_count": null,
   "metadata": {},
   "outputs": [],
   "source": []
  }
 ],
 "metadata": {
  "kernelspec": {
   "display_name": "Python 3",
   "language": "python",
   "name": "python3"
  },
  "language_info": {
   "codemirror_mode": {
    "name": "ipython",
    "version": 3
   },
   "file_extension": ".py",
   "mimetype": "text/x-python",
   "name": "python",
   "nbconvert_exporter": "python",
   "pygments_lexer": "ipython3",
   "version": "3.7.3"
  }
 },
 "nbformat": 4,
 "nbformat_minor": 2
}
