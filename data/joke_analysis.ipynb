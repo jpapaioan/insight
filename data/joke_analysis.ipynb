{
 "cells": [
  {
   "cell_type": "code",
   "execution_count": 3,
   "metadata": {},
   "outputs": [],
   "source": [
    "import os\n",
    "import pandas as pd\n",
    "import re\n",
    "\n",
    "pickled_data = '/Users/johnpapaioannou/Desktop/insight/project/nlp_models/full_transcripts.pkl'\n",
    "specials = pd.read_pickle(pickled_data)"
   ]
  },
  {
   "cell_type": "code",
   "execution_count": 29,
   "metadata": {},
   "outputs": [],
   "source": [
    "# collection of annoying punctuation specific to these comedy transcripts\n",
    "def init_clean(single_special):\n",
    "    single_special = re.sub(\"[\\(\\[].*?[\\)\\]]\", \"\", single_special)\n",
    "    single_special = re.sub(\"-\", \" \", single_special)\n",
    "    single_special = re.sub(\"…\", \".\", single_special)\n",
    "    single_special = re.sub(\"\\\"\", \"\", single_special)\n",
    "    single_special = re.sub(\"\\“\", \"\", single_special)\n",
    "    single_special = re.sub(\"\\“\", \"\", single_special)\n",
    "    single_special = re.sub(\"♪\", \"\", single_special)\n",
    "    return single_special"
   ]
  },
  {
   "cell_type": "code",
   "execution_count": 66,
   "metadata": {},
   "outputs": [
    {
     "name": "stdout",
     "output_type": "stream",
     "text": [
      "[' Because sniffing it would be disgusting', ' Okay? And if you haven’t licked ass yet, grow up']\n"
     ]
    }
   ],
   "source": [
    "special = init_clean(specials.iloc[4,1])\n",
    "comedian = specials.iloc[4,0]\n",
    "\n",
    "special_split1 = special.split('.')\n",
    "\n",
    "special_split2 = special_split1[37].split('!')\n",
    "print(special_split2)"
   ]
  },
  {
   "cell_type": "code",
   "execution_count": null,
   "metadata": {},
   "outputs": [],
   "source": []
  }
 ],
 "metadata": {
  "kernelspec": {
   "display_name": "Python 3",
   "language": "python",
   "name": "python3"
  },
  "language_info": {
   "codemirror_mode": {
    "name": "ipython",
    "version": 3
   },
   "file_extension": ".py",
   "mimetype": "text/x-python",
   "name": "python",
   "nbconvert_exporter": "python",
   "pygments_lexer": "ipython3",
   "version": "3.7.3"
  }
 },
 "nbformat": 4,
 "nbformat_minor": 2
}
